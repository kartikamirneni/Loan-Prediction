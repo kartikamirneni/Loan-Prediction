{
 "cells": [
  {
   "cell_type": "code",
   "execution_count": 37,
   "metadata": {
    "collapsed": true
   },
   "outputs": [],
   "source": [
    "import pandas as pd\n",
    "import numpy as np\n",
    "import matplotlib.pyplot as plt\n",
    "\n",
    "lp = pd.read_csv(\"/Users/Home/Documents/Python Scripts/train_loan.csv\") \n"
   ]
  },
  {
   "cell_type": "code",
   "execution_count": 38,
   "metadata": {},
   "outputs": [
    {
     "data": {
      "text/html": [
       "<div>\n",
       "<style>\n",
       "    .dataframe thead tr:only-child th {\n",
       "        text-align: right;\n",
       "    }\n",
       "\n",
       "    .dataframe thead th {\n",
       "        text-align: left;\n",
       "    }\n",
       "\n",
       "    .dataframe tbody tr th {\n",
       "        vertical-align: top;\n",
       "    }\n",
       "</style>\n",
       "<table border=\"1\" class=\"dataframe\">\n",
       "  <thead>\n",
       "    <tr style=\"text-align: right;\">\n",
       "      <th></th>\n",
       "      <th>ApplicantIncome</th>\n",
       "      <th>CoapplicantIncome</th>\n",
       "      <th>LoanAmount</th>\n",
       "      <th>Loan_Amount_Term</th>\n",
       "      <th>Credit_History</th>\n",
       "    </tr>\n",
       "  </thead>\n",
       "  <tbody>\n",
       "    <tr>\n",
       "      <th>count</th>\n",
       "      <td>614.000000</td>\n",
       "      <td>614.000000</td>\n",
       "      <td>592.000000</td>\n",
       "      <td>600.00000</td>\n",
       "      <td>564.000000</td>\n",
       "    </tr>\n",
       "    <tr>\n",
       "      <th>mean</th>\n",
       "      <td>5403.459283</td>\n",
       "      <td>1621.245798</td>\n",
       "      <td>146.412162</td>\n",
       "      <td>342.00000</td>\n",
       "      <td>0.842199</td>\n",
       "    </tr>\n",
       "    <tr>\n",
       "      <th>std</th>\n",
       "      <td>6109.041673</td>\n",
       "      <td>2926.248369</td>\n",
       "      <td>85.587325</td>\n",
       "      <td>65.12041</td>\n",
       "      <td>0.364878</td>\n",
       "    </tr>\n",
       "    <tr>\n",
       "      <th>min</th>\n",
       "      <td>150.000000</td>\n",
       "      <td>0.000000</td>\n",
       "      <td>9.000000</td>\n",
       "      <td>12.00000</td>\n",
       "      <td>0.000000</td>\n",
       "    </tr>\n",
       "    <tr>\n",
       "      <th>25%</th>\n",
       "      <td>2877.500000</td>\n",
       "      <td>0.000000</td>\n",
       "      <td>100.000000</td>\n",
       "      <td>360.00000</td>\n",
       "      <td>1.000000</td>\n",
       "    </tr>\n",
       "    <tr>\n",
       "      <th>50%</th>\n",
       "      <td>3812.500000</td>\n",
       "      <td>1188.500000</td>\n",
       "      <td>128.000000</td>\n",
       "      <td>360.00000</td>\n",
       "      <td>1.000000</td>\n",
       "    </tr>\n",
       "    <tr>\n",
       "      <th>75%</th>\n",
       "      <td>5795.000000</td>\n",
       "      <td>2297.250000</td>\n",
       "      <td>168.000000</td>\n",
       "      <td>360.00000</td>\n",
       "      <td>1.000000</td>\n",
       "    </tr>\n",
       "    <tr>\n",
       "      <th>max</th>\n",
       "      <td>81000.000000</td>\n",
       "      <td>41667.000000</td>\n",
       "      <td>700.000000</td>\n",
       "      <td>480.00000</td>\n",
       "      <td>1.000000</td>\n",
       "    </tr>\n",
       "  </tbody>\n",
       "</table>\n",
       "</div>"
      ],
      "text/plain": [
       "       ApplicantIncome  CoapplicantIncome  LoanAmount  Loan_Amount_Term  \\\n",
       "count       614.000000         614.000000  592.000000         600.00000   \n",
       "mean       5403.459283        1621.245798  146.412162         342.00000   \n",
       "std        6109.041673        2926.248369   85.587325          65.12041   \n",
       "min         150.000000           0.000000    9.000000          12.00000   \n",
       "25%        2877.500000           0.000000  100.000000         360.00000   \n",
       "50%        3812.500000        1188.500000  128.000000         360.00000   \n",
       "75%        5795.000000        2297.250000  168.000000         360.00000   \n",
       "max       81000.000000       41667.000000  700.000000         480.00000   \n",
       "\n",
       "       Credit_History  \n",
       "count      564.000000  \n",
       "mean         0.842199  \n",
       "std          0.364878  \n",
       "min          0.000000  \n",
       "25%          1.000000  \n",
       "50%          1.000000  \n",
       "75%          1.000000  \n",
       "max          1.000000  "
      ]
     },
     "execution_count": 38,
     "metadata": {},
     "output_type": "execute_result"
    }
   ],
   "source": [
    "lp.describe()"
   ]
  },
  {
   "cell_type": "code",
   "execution_count": 39,
   "metadata": {},
   "outputs": [
    {
     "name": "stdout",
     "output_type": "stream",
     "text": [
      "As we observe that there are missing values in LoanAmount,Loan_Amount_Term and Credit_History.\n"
     ]
    }
   ],
   "source": [
    "print('As we observe that there are missing values in LoanAmount,Loan_Amount_Term and Credit_History.')"
   ]
  },
  {
   "cell_type": "code",
   "execution_count": 40,
   "metadata": {},
   "outputs": [
    {
     "data": {
      "text/plain": [
       "Semiurban    233\n",
       "Urban        202\n",
       "Rural        179\n",
       "Name: Property_Area, dtype: int64"
      ]
     },
     "execution_count": 40,
     "metadata": {},
     "output_type": "execute_result"
    }
   ],
   "source": [
    "lp['Property_Area'].value_counts()"
   ]
  },
  {
   "cell_type": "code",
   "execution_count": 41,
   "metadata": {},
   "outputs": [
    {
     "name": "stdout",
     "output_type": "stream",
     "text": [
      "This function provides in which area the number of properties are located and what is their frequency.\n"
     ]
    }
   ],
   "source": [
    "print ('This function provides in which area the number of properties are located and what is their frequency.')"
   ]
  },
  {
   "cell_type": "code",
   "execution_count": 42,
   "metadata": {},
   "outputs": [
    {
     "data": {
      "image/png": "[encoded data removed]",
      "text/plain": [
       "<matplotlib.figure.Figure at 0x174118c6940>"
      ]
     },
     "metadata": {},
     "output_type": "display_data"
    }
   ],
   "source": [
    "lp.boxplot(column='ApplicantIncome', by = 'Education')\n",
    "plt.show()"
   ]
  },
  {
   "cell_type": "code",
   "execution_count": 43,
   "metadata": {},
   "outputs": [
    {
     "name": "stdout",
     "output_type": "stream",
     "text": [
      "There appears to be some graduates which have a higher income, they can be classified as outliers. Non-graduates have the same mean income and do not have any outliers.\n"
     ]
    }
   ],
   "source": [
    "print('There appears to be some graduates which have a higher income, they can be classified as outliers. Non-graduates have the same mean income and do not have any outliers.')"
   ]
  },
  {
   "cell_type": "code",
   "execution_count": 44,
   "metadata": {},
   "outputs": [
    {
     "data": {
      "text/plain": [
       "Loan_ID               0\n",
       "Gender               13\n",
       "Married               3\n",
       "Dependents           15\n",
       "Education             0\n",
       "Self_Employed        32\n",
       "ApplicantIncome       0\n",
       "CoapplicantIncome     0\n",
       "LoanAmount           22\n",
       "Loan_Amount_Term     14\n",
       "Credit_History       50\n",
       "Property_Area         0\n",
       "Loan_Status           0\n",
       "dtype: int64"
      ]
     },
     "execution_count": 44,
     "metadata": {},
     "output_type": "execute_result"
    }
   ],
   "source": [
    "lp.apply(lambda x: sum(x.isnull()),axis=0) "
   ]
  },
  {
   "cell_type": "code",
   "execution_count": 45,
   "metadata": {},
   "outputs": [
    {
     "name": "stdout",
     "output_type": "stream",
     "text": [
      "There are missing values in few of the attributes. They should be filled to avoid any errors and model prediction.\n"
     ]
    }
   ],
   "source": [
    "print('There are missing values in few of the attributes. They should be filled to avoid any errors and model prediction.')"
   ]
  },
  {
   "cell_type": "code",
   "execution_count": 46,
   "metadata": {
    "collapsed": true
   },
   "outputs": [],
   "source": [
    "lp['LoanAmount'].fillna(lp['LoanAmount'].mean(), inplace=True)\n",
    "\n",
    "lp['Self_Employed'].fillna('No',inplace=True)"
   ]
  },
  {
   "cell_type": "code",
   "execution_count": 47,
   "metadata": {},
   "outputs": [
    {
     "name": "stdout",
     "output_type": "stream",
     "text": [
      "We then remove the outliers by taking a log of the values to ground any adverse effect.\n"
     ]
    }
   ],
   "source": [
    "print('We then remove the outliers by taking a log of the values to ground any adverse effect.')"
   ]
  },
  {
   "cell_type": "code",
   "execution_count": 48,
   "metadata": {
    "collapsed": true
   },
   "outputs": [],
   "source": [
    "lp['LoanAmount_log'] = np.log(lp['LoanAmount'])"
   ]
  },
  {
   "cell_type": "code",
   "execution_count": 49,
   "metadata": {
    "collapsed": true
   },
   "outputs": [],
   "source": [
    "lp['Loan_Amount_Term'].fillna(lp['Loan_Amount_Term'].median(), inplace=True)\n",
    "lp['Loan_Amount_Term_log'] = np.log(lp['Loan_Amount_Term'])"
   ]
  },
  {
   "cell_type": "code",
   "execution_count": 50,
   "metadata": {},
   "outputs": [
    {
     "name": "stdout",
     "output_type": "stream",
     "text": [
      "We can even fill the missing values using pivot tables.\n"
     ]
    }
   ],
   "source": [
    "print('We can even fill the missing values using pivot tables.')"
   ]
  },
  {
   "cell_type": "code",
   "execution_count": 51,
   "metadata": {},
   "outputs": [],
   "source": [
    "table = lp.pivot_table(values='Credit_History',index='Self_Employed',columns='Education', aggfunc=np.median)"
   ]
  },
  {
   "cell_type": "code",
   "execution_count": 52,
   "metadata": {},
   "outputs": [
    {
     "name": "stdout",
     "output_type": "stream",
     "text": [
      "    Self_Employed     Education  Credit_History\n",
      "16             No  Not Graduate             1.0\n",
      "24             No      Graduate             1.0\n",
      "30             No      Graduate             1.0\n",
      "42             No      Graduate             1.0\n",
      "79            Yes  Not Graduate             1.0\n",
      "83             No      Graduate             1.0\n",
      "86             No  Not Graduate             1.0\n",
      "95             No      Graduate             1.0\n",
      "117            No      Graduate             1.0\n",
      "125            No      Graduate             1.0\n",
      "129            No      Graduate             1.0\n",
      "130           Yes      Graduate             1.0\n",
      "156            No      Graduate             1.0\n",
      "181            No      Graduate             1.0\n",
      "187            No      Graduate             1.0\n",
      "198            No      Graduate             1.0\n",
      "219            No      Graduate             1.0\n",
      "236            No      Graduate             1.0\n",
      "237           Yes      Graduate             1.0\n",
      "259            No  Not Graduate             1.0\n",
      "260            No      Graduate             1.0\n",
      "279            No  Not Graduate             1.0\n",
      "309            No  Not Graduate             1.0\n",
      "313           Yes      Graduate             1.0\n",
      "317            No      Graduate             1.0\n",
      "318            No      Graduate             1.0\n",
      "323            No      Graduate             1.0\n",
      "348            No      Graduate             1.0\n",
      "363            No      Graduate             1.0\n",
      "377            No      Graduate             1.0\n",
      "392            No      Graduate             1.0\n",
      "395            No      Graduate             1.0\n",
      "411            No      Graduate             1.0\n",
      "444            No      Graduate             1.0\n",
      "449           Yes  Not Graduate             1.0\n",
      "451            No  Not Graduate             1.0\n",
      "460           Yes      Graduate             1.0\n",
      "473           Yes      Graduate             1.0\n",
      "490            No  Not Graduate             1.0\n",
      "491            No  Not Graduate             1.0\n",
      "497            No      Graduate             1.0\n",
      "503            No  Not Graduate             1.0\n",
      "506            No      Graduate             1.0\n",
      "530            No      Graduate             1.0\n",
      "533            No      Graduate             1.0\n",
      "544            No  Not Graduate             1.0\n",
      "556            No      Graduate             1.0\n",
      "565            No  Not Graduate             1.0\n",
      "583            No      Graduate             1.0\n",
      "600            No      Graduate             1.0\n"
     ]
    }
   ],
   "source": [
    "idx = lp.loc[lp['Credit_History'].isnull(), ['Self_Employed','Education', 'Credit_History']].index\n",
    "lp = lp.set_index(['Education','Self_Employed'])\n",
    "lp['Credit_History'].fillna(table.unstack(), inplace=True)\n",
    "lp = lp.reset_index()\n",
    "print (lp.loc[lp.index.isin(idx), ['Self_Employed','Education', 'Credit_History']])"
   ]
  },
  {
   "cell_type": "code",
   "execution_count": 54,
   "metadata": {},
   "outputs": [
    {
     "name": "stdout",
     "output_type": "stream",
     "text": [
      "Similarly we fill up the missing values in the attributes accordingly.\n"
     ]
    }
   ],
   "source": [
    "print('Similarly we fill up the missing values in the attributes accordingly.')"
   ]
  },
  {
   "cell_type": "code",
   "execution_count": 55,
   "metadata": {
    "collapsed": true
   },
   "outputs": [],
   "source": [
    "lp['Gender'].fillna('Male',inplace=True)\n",
    "lp['Married'].fillna('Yes',inplace=True)\n",
    "lp['Dependents'].fillna('0',inplace=True)"
   ]
  },
  {
   "cell_type": "code",
   "execution_count": 101,
   "metadata": {},
   "outputs": [
    {
     "data": {
      "text/plain": [
       "Education                 int64\n",
       "Self_Employed             int64\n",
       "Loan_ID                  object\n",
       "Gender                    int64\n",
       "Married                   int64\n",
       "Dependents                int64\n",
       "ApplicantIncome           int64\n",
       "CoapplicantIncome       float64\n",
       "LoanAmount              float64\n",
       "Loan_Amount_Term        float64\n",
       "Credit_History          float64\n",
       "Property_Area             int64\n",
       "Loan_Status               int64\n",
       "LoanAmount_log          float64\n",
       "Loan_Amount_Term_log    float64\n",
       "dtype: object"
      ]
     },
     "execution_count": 101,
     "metadata": {},
     "output_type": "execute_result"
    }
   ],
   "source": [
    "# We can make prediction models using sk library. Since it only accepts only numercial values, we convert all the categorical values to numerical for further processing.\n",
    "\n",
    "from sklearn.preprocessing import LabelEncoder\n",
    "var_mod = ['Gender','Married','Dependents','Education','Self_Employed','Property_Area','Loan_Status']\n",
    "le = LabelEncoder()\n",
    "for i in var_mod:\n",
    "    lp[i] = le.fit_transform(lp[i])\n",
    "lp.dtypes "
   ]
  },
  {
   "cell_type": "code",
   "execution_count": 102,
   "metadata": {},
   "outputs": [],
   "source": [
    "from sklearn.linear_model import LogisticRegression\n",
    "from sklearn.cross_validation import KFold \n",
    "from sklearn.ensemble import RandomForestClassifier\n",
    "from sklearn.tree import DecisionTreeClassifier, export_graphviz\n",
    "from sklearn import metrics"
   ]
  },
  {
   "cell_type": "code",
   "execution_count": 116,
   "metadata": {},
   "outputs": [],
   "source": [
    "#First, we define a classidifciation model which provides with accuracy and cross-validation \n",
    "def classification_m(model, data, predictor, outcome):\n",
    "    model.fit(data[predictor],data[outcome])\n",
    "    \n",
    "    prediction = model.predict(data[predictor])\n",
    "    \n",
    "    accuracy = metrics.accuracy_score(prediction,data[outcome])\n",
    "    print('Accuracy : %s' % '{0:0.3%}'.format(accuracy))\n",
    "        \n",
    "        \n",
    "    kf = KFold(data.shape[0], n_folds=5)\n",
    "    error = []\n",
    "    for train, test in kf:\n",
    "    # Filter training data\n",
    "        train_predictors = (data[predictor].iloc[train,:])\n",
    "    \n",
    "    # The target we're using to train the algorithm.\n",
    "        train_target = data[outcome].iloc[train]\n",
    "    \n",
    "    # Training the algorithm using the predictors and target.\n",
    "        model.fit(train_predictors, train_target)\n",
    "    \n",
    "    #Record error from each cross-validation run\n",
    "        error.append(model.score(data[predictor].iloc[test,:], data[outcome].iloc[test]))\n",
    " \n",
    "    print ('Cross-Validation Score : %s' % '{0:0.3%}'.format(np.mean(error)))\n"
   ]
  },
  {
   "cell_type": "code",
   "execution_count": 117,
   "metadata": {},
   "outputs": [
    {
     "name": "stdout",
     "output_type": "stream",
     "text": [
      "Accuracy : 80.945%\n",
      "Cross-Validation Score : 80.946%\n"
     ]
    }
   ],
   "source": [
    "outcome_var = 'Loan_Status'\n",
    "model = LogisticRegression()\n",
    "predictor_var = ['Credit_History']\n",
    "classification_m(model,lp,predictor_var,outcome_var)"
   ]
  },
  {
   "cell_type": "code",
   "execution_count": 118,
   "metadata": {},
   "outputs": [
    {
     "name": "stdout",
     "output_type": "stream",
     "text": [
      "Accuracy : 80.945%\n",
      "Cross-Validation Score : 80.946%\n"
     ]
    }
   ],
   "source": [
    "model = DecisionTreeClassifier()\n",
    "predictor_var = ['Credit_History','Gender','Married','Education']\n",
    "classification_m(model, lp,predictor_var,outcome_var)"
   ]
  },
  {
   "cell_type": "code",
   "execution_count": 119,
   "metadata": {},
   "outputs": [
    {
     "name": "stdout",
     "output_type": "stream",
     "text": [
      "Accuracy : 100.000%\n",
      "Cross-Validation Score : 78.666%\n"
     ]
    }
   ],
   "source": [
    "model = RandomForestClassifier(n_estimators=100)\n",
    "predictor_var = ['Gender', 'Married', 'Dependents', 'Education',\n",
    "       'Self_Employed', 'Loan_Amount_Term', 'Credit_History', 'Property_Area',\n",
    "        'LoanAmount_log','ApplicantIncome']\n",
    "classification_m(model, lp,predictor_var,outcome_var)"
   ]
  },
  {
   "cell_type": "code",
   "execution_count": 120,
   "metadata": {},
   "outputs": [
    {
     "name": "stdout",
     "output_type": "stream",
     "text": [
      "ApplicantIncome     0.251692\n",
      "Credit_History      0.249328\n",
      "LoanAmount_log      0.240866\n",
      "Dependents          0.056149\n",
      "Property_Area       0.055201\n",
      "Loan_Amount_Term    0.048126\n",
      "Married             0.030581\n",
      "Education           0.026899\n",
      "Gender              0.020719\n",
      "Self_Employed       0.020439\n",
      "dtype: float64\n"
     ]
    }
   ],
   "source": [
    "featimp = pd.Series(model.feature_importances_, index=predictor_var).sort_values(ascending=False)\n",
    "print (featimp)"
   ]
  },
  {
   "cell_type": "code",
   "execution_count": 121,
   "metadata": {},
   "outputs": [
    {
     "name": "stdout",
     "output_type": "stream",
     "text": [
      "Accuracy : 82.248%\n",
      "Cross-Validation Score : 80.782%\n"
     ]
    }
   ],
   "source": [
    "model = RandomForestClassifier(n_estimators=25, min_samples_split=25, max_depth=7, max_features=1)\n",
    "predictor_var = ['ApplicantIncome','LoanAmount_log','Credit_History','Dependents','Property_Area']\n",
    "classification_m(model, lp,predictor_var,outcome_var)"
   ]
  },
  {
   "cell_type": "code",
   "execution_count": null,
   "metadata": {
    "collapsed": true
   },
   "outputs": [],
   "source": []
  }
 ],
 "metadata": {
  "kernelspec": {
   "display_name": "Python 3",
   "language": "python",
   "name": "python3"
  },
  "language_info": {
   "codemirror_mode": {
    "name": "ipython",
    "version": 3
   },
   "file_extension": ".py",
   "mimetype": "text/x-python",
   "name": "python",
   "nbconvert_exporter": "python",
   "pygments_lexer": "ipython3",
   "version": "3.6.1"
  }
 },
 "nbformat": 4,
 "nbformat_minor": 2
}
